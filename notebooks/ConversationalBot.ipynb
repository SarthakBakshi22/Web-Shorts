{
 "cells": [
  {
   "cell_type": "code",
   "execution_count": 1,
   "id": "6edebda8-0211-4655-9388-eb3a5a8ce44d",
   "metadata": {},
   "outputs": [
    {
     "name": "stdout",
     "output_type": "stream",
     "text": [
      "2024-01-30 16:39:45 - Created default config file at /Users/trafalgar/Downloads/.chainlit/config.toml\n",
      "2024-01-30 16:39:45 - Created default translation directory at /Users/trafalgar/Downloads/.chainlit/translations\n",
      "2024-01-30 16:39:45 - Created default translation file at /Users/trafalgar/Downloads/.chainlit/translations/pt-BR.json\n",
      "2024-01-30 16:39:45 - Created default translation file at /Users/trafalgar/Downloads/.chainlit/translations/en-US.json\n",
      "2024-01-30 16:39:45 - Loaded .env file\n",
      "2024-01-30 16:39:48 - Created default chainlit markdown file at /Users/trafalgar/Downloads/chainlit.md\n",
      "2024-01-30 16:39:48 - Your app is available at http://localhost:8000\n",
      "^C\n"
     ]
    }
   ],
   "source": [
    "!chainlit hello"
   ]
  },
  {
   "cell_type": "code",
   "execution_count": 29,
   "id": "37ececc4-da66-4673-a15a-6e4360a66e6b",
   "metadata": {},
   "outputs": [],
   "source": [
    "import os\n",
    "import chainlit as cl\n",
    "from langchain import HuggingFaceHub, PromptTemplate, LLMChain"
   ]
  },
  {
   "cell_type": "code",
   "execution_count": 30,
   "id": "9ce6fc1a-e15e-4944-931d-41a3981cd62c",
   "metadata": {},
   "outputs": [
    {
     "name": "stdin",
     "output_type": "stream",
     "text": [
      " ·····································\n"
     ]
    }
   ],
   "source": [
    "from getpass import getpass\n",
    "HUGGINGFACEHUB_API_TOKEN = getpass()\n",
    "os.environ['HUGGINGFACEHUB_API_TOKEN'] = HUGGINGFACEHUB_API_TOKEN"
   ]
  },
  {
   "cell_type": "code",
   "execution_count": 40,
   "id": "d0741616-6b08-4aba-894a-4df6a5160f16",
   "metadata": {},
   "outputs": [
    {
     "name": "stderr",
     "output_type": "stream",
     "text": [
      "/Users/trafalgar/opt/anaconda3/lib/python3.9/site-packages/huggingface_hub/utils/_deprecation.py:131: FutureWarning: 'InferenceApi' (from 'huggingface_hub.inference_api') is deprecated and will be removed from version '1.0'. `InferenceApi` client is deprecated in favor of the more feature-complete `InferenceClient`. Check out this guide to learn how to convert your script to use it: https://huggingface.co/docs/huggingface_hub/guides/inference#legacy-inferenceapi-client.\n",
      "  warnings.warn(warning_message, FutureWarning)\n"
     ]
    }
   ],
   "source": [
    "model_id = \"gpt2-medium\"\n",
    "conv_model = HuggingFaceHub(huggingfacehub_api_token=os.environ['HUGGINGFACEHUB_API_TOKEN'],\n",
    "                            repo_id = model_id,\n",
    "                            model_kwargs={\"temperature\":0.8,\"max_new_tokens\":250})"
   ]
  },
  {
   "cell_type": "code",
   "execution_count": 41,
   "id": "036532b5-1647-4748-8801-2189f8a8d3c0",
   "metadata": {},
   "outputs": [],
   "source": [
    "template = \"\"\"You are a helpful AI assistant that answers queries provided by used with information you have\n",
    "{query}\n",
    "\"\"\"\n",
    "prompt = PromptTemplate(template=template,input_variables=['query'])"
   ]
  },
  {
   "cell_type": "code",
   "execution_count": 42,
   "id": "f99e2078-b7cd-4460-bd64-4fb538763c50",
   "metadata": {},
   "outputs": [],
   "source": [
    "conv_chain = LLMChain(llm=conv_model,\n",
    "                      prompt=prompt,\n",
    "                      verbose=True)"
   ]
  },
  {
   "cell_type": "code",
   "execution_count": 44,
   "id": "d570d5a8-1a23-4dbc-b501-3dc68186e910",
   "metadata": {},
   "outputs": [
    {
     "name": "stdout",
     "output_type": "stream",
     "text": [
      "\n",
      "\n",
      "\u001b[1m> Entering new LLMChain chain...\u001b[0m\n",
      "Prompt after formatting:\n",
      "\u001b[32;1m\u001b[1;3mYou are a helpful AI assistant that answers queries provided by used with information you have\n",
      "Who is luffy in One Piece\n",
      "\u001b[0m\n",
      "\n",
      "\u001b[1m> Finished chain.\u001b[0m\n",
      "Luffy is a character introduced in chapter 5 of Dragon Ball Z in Chapter 12. He is a human born from a human soul. He is the son of King Piccolo and his wife, Sanzu, who is a human witch. He is the main antagonist of the Saiyan Saga, and is also the main antagonist of the Dragon Ball Z anime.\n",
      "\n",
      "In Chapter 11, it was revealed that he had spent years looking for Goku, to no avail; however, a mysterious voice had convinced him to join the fight.\n"
     ]
    }
   ],
   "source": [
    "print(conv_chain.run(\"Who is luffy in One Piece\"))"
   ]
  },
  {
   "cell_type": "code",
   "execution_count": 45,
   "id": "ba148133-08f4-4697-bc4f-1fc9ad1c5368",
   "metadata": {},
   "outputs": [
    {
     "name": "stdout",
     "output_type": "stream",
     "text": [
      "\n",
      "\n",
      "\u001b[1m> Entering new LLMChain chain...\u001b[0m\n",
      "Prompt after formatting:\n",
      "\u001b[32;1m\u001b[1;3mYou are a helpful AI assistant that answers queries provided by used with information you have\n",
      "Tell me about Naruto\n",
      "\u001b[0m\n",
      "\n",
      "\u001b[1m> Finished chain.\u001b[0m\n",
      "\"Naruto was born in the same month as you, and he has already completed his fourth year. You probably know by now that he grew up in the village of Konoha, but the fact is he has been in the military for ten years and has been involved in the events that have become known as the Konoha Wars.\" His eyes light up. \"So this is how he feels about his life in Konoha, as a soldier, and who has been with him through all the war?\" His ears perk up. \"I'm glad you asked. Not only have you been there in the wake of many of these battles, but you've also been in the aftermath of these battles. In addition to helping you with your questions from your military career, I wanted to know more about what it's like to be in a combat zone with your teammate. What sorts of challenges and challenges do you face as an AI? Are you always trying to learn and grow? Is there anything you really excel at or take pride in?\" His voice lightens at this point. \"Because if there is, then I can only imagine what you have to offer as an AI.\" He takes his hands out from under the chin strap and places them on his\n"
     ]
    }
   ],
   "source": [
    "print(conv_chain.run(\"Tell me about Naruto\"))"
   ]
  },
  {
   "cell_type": "code",
   "execution_count": null,
   "id": "fa4532d8-07ef-491d-8503-61311d390202",
   "metadata": {},
   "outputs": [],
   "source": []
  }
 ],
 "metadata": {
  "kernelspec": {
   "display_name": "Python 3 (ipykernel)",
   "language": "python",
   "name": "python3"
  },
  "language_info": {
   "codemirror_mode": {
    "name": "ipython",
    "version": 3
   },
   "file_extension": ".py",
   "mimetype": "text/x-python",
   "name": "python",
   "nbconvert_exporter": "python",
   "pygments_lexer": "ipython3",
   "version": "3.9.12"
  }
 },
 "nbformat": 4,
 "nbformat_minor": 5
}
